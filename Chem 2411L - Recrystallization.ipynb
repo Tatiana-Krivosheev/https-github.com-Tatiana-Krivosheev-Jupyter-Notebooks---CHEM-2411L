{
 "cells": [
  {
   "cell_type": "markdown",
   "metadata": {},
   "source": [
    "# Chem 2411L - Organic Chemistry Laboratory I\n",
    "# Recrystallization"
   ]
  },
  {
   "cell_type": "markdown",
   "metadata": {},
   "source": [
    "## Student Name:  "
   ]
  },
  {
   "cell_type": "markdown",
   "metadata": {},
   "source": [
    "## Pre-lab Questions"
   ]
  },
  {
   "cell_type": "markdown",
   "metadata": {},
   "source": [
    "1.\tDescribe the requirements for a “good” recrystallization solvent.\n",
    "\n",
    "2.\tHow are insoluble impurities removed in a recrystallization?\n",
    "\n",
    "3.\tWhat is the purpose of adding activated carbon/charcoal to a solution during recrystallization?\n",
    "\n",
    "4.\tWhat are boiling stones/chips? Why are they used?\n"
   ]
  },
  {
   "cell_type": "markdown",
   "metadata": {},
   "source": [
    "## Procedure"
   ]
  },
  {
   "cell_type": "markdown",
   "metadata": {},
   "source": [
    "**Crystallization of Impure Acetanilide**\n",
    "\n",
    "1.\tWeigh 2.0 g of acetanilide into a 125-mL Erlenmeyer flask. Add 20 mL of water and a boiling stone to the flask.\n",
    "2.\tPlace the flask on a hot plate and slowly heat the contents to boiling. Stir occasionally.\n",
    "3.\tWhen the contents begin to boil, add 5 mL portions of water until the solute is dissolved as much as possible. This may take as much as 50 mL of water.\n",
    "4.\tCool the solution slightly. If there are significant colored impurities, add a small amount of activated carbon. Make sure the solution is cool before adding the carbon or it may boil over when carbon is added. After adding the carbon, reheat the solution to boiling, then filter using the gravity filtration procedure described in your textbook. This filtration process may need to be repeated if the mixture is still gray or highly colored. \n",
    "5.\tSet the flask aside to cool to room temperature, then chill the flask in ice bath to induce crystallization. \n",
    "6.\tOnce crystallization is complete vacuum filter the mixture using a Büchner funnel (follow the procedure described in your textbook). You may need to add cool water to the flask to assist in transferring all of the contents to the funnel. Dry the crystals on the funnel by continuing suction for a few minutes. \n",
    "7.\tPlace the crystals on a watch glass or filter paper and allow them air dry. You may also gently squeeze the crystals between two pieces of filter paper to quicken the drying process. \n",
    "8.\tDetermine the melting point range of your recovered crystals (reaching the correct melting point indicates that the sample is dry). Weigh the crystals and calculate the percent recovery.\n",
    "9.\tSubmit your crystals to your instructor in a small vial labeled with the contents of the vial and the names of all group members.\n",
    "10.\tDispose of your filtrate as directed by your instructor.\n"
   ]
  },
  {
   "cell_type": "markdown",
   "metadata": {},
   "source": [
    "## Structure"
   ]
  },
  {
   "cell_type": "markdown",
   "metadata": {},
   "source": [
    "Insert the structure of acetanilide."
   ]
  },
  {
   "cell_type": "code",
   "execution_count": 4,
   "metadata": {
    "collapsed": false
   },
   "outputs": [
    {
     "data": {
      "image/png": "pathway name\file name.jpg",
      "text/plain": [
       "<IPython.core.display.Image object>"
      ]
     },
     "execution_count": 4,
     "metadata": {},
     "output_type": "execute_result"
    }
   ],
   "source": [
    "from IPython.display import Image\n",
    "Image(\"pathway name\\file name.jpg\")"
   ]
  },
  {
   "cell_type": "markdown",
   "metadata": {},
   "source": [
    "## Data and Observations "
   ]
  },
  {
   "cell_type": "markdown",
   "metadata": {},
   "source": [
    "**Crystallization of Impure Acetanilide**\n",
    "\n",
    "    Mass of impure acetanilide: ____________________\n",
    "    Mass of recovered acetanilide: ____________________\n",
    "    Melting-point range of recovered acetanilide:  ____________________\t\t\n",
    "    Observations (color changes, product appearance, etc.):\n",
    "\n",
    "\n"
   ]
  },
  {
   "cell_type": "markdown",
   "metadata": {},
   "source": [
    "## Data Analysis"
   ]
  },
  {
   "cell_type": "markdown",
   "metadata": {},
   "source": [
    "Calculate the percent recovery of acetanilide. Clearly show your work."
   ]
  },
  {
   "cell_type": "markdown",
   "metadata": {},
   "source": [
    "## Report Questions"
   ]
  },
  {
   "cell_type": "markdown",
   "metadata": {},
   "source": [
    "1. The solubility of compound A in ethanol is 0.8 g per 100 mL at 0$^\\circ$C and 5.0 g per 100 mL at 78$^\\circ$C. What is the minimum amount of ethanol needed to recrystallize 12.0 g of compound A? Clearly show your work for full credit.\n",
    "\n",
    "2. How much of compound A is lost in the recrystallization described in question 1 (in other words, how much of compound A will remain in the cold solvent)? Clearly show your work for full credit.\n",
    "\n",
    "3. Compound B is quite soluble in toluene, but only slightly soluble in petroleum ether. How could these two solvents be used in combination to recrystallize compound B?\n",
    "\n",
    "4. What is the literature melting point of acetanilide? How did your melting point compare to the literature melting point? What conclusions can you make about the purity of your recrystallized product based on your melting point data?\n"
   ]
  },
  {
   "cell_type": "code",
   "execution_count": null,
   "metadata": {
    "collapsed": true
   },
   "outputs": [],
   "source": []
  }
 ],
 "metadata": {
  "kernelspec": {
   "display_name": "Python 3",
   "language": "python",
   "name": "python3"
  },
  "language_info": {
   "codemirror_mode": {
    "name": "ipython",
    "version": 3
   },
   "file_extension": ".py",
   "mimetype": "text/x-python",
   "name": "python",
   "nbconvert_exporter": "python",
   "pygments_lexer": "ipython3",
   "version": "3.5.1"
  }
 },
 "nbformat": 4,
 "nbformat_minor": 0
}
