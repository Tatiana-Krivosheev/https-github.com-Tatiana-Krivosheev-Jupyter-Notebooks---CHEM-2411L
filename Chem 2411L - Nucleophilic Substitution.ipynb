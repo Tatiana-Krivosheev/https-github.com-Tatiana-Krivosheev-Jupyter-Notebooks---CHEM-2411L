{
 "cells": [
  {
   "cell_type": "markdown",
   "metadata": {},
   "source": [
    "# Chem 2411L - Organic Chemistry Laboratory I\n",
    "# Nucleophilic Substitution of Alkyl Halides"
   ]
  },
  {
   "cell_type": "markdown",
   "metadata": {},
   "source": [
    "## Student Name: "
   ]
  },
  {
   "cell_type": "markdown",
   "metadata": {},
   "source": [
    "## Pre-lab Questions"
   ]
  },
  {
   "cell_type": "markdown",
   "metadata": {},
   "source": [
    "1.Draw the products of the following nucleophilic substitution reactions:\n",
    "\n",
    "    a.\tethyl bromide and KOH (in water solvent)\n",
    "\tb.\t1-chlorobutane and NaI (in acetone solvent)"
   ]
  },
  {
   "cell_type": "code",
   "execution_count": 1,
   "metadata": {
    "collapsed": false
   },
   "outputs": [
    {
     "data": {
      "image/png": "pathway name\file name.jpg",
      "text/plain": [
       "<IPython.core.display.Image object>"
      ]
     },
     "execution_count": 1,
     "metadata": {},
     "output_type": "execute_result"
    }
   ],
   "source": [
    "from IPython.display import Image\n",
    "Image(\"pathway name\\file name.jpg\")"
   ]
  },
  {
   "cell_type": "markdown",
   "metadata": {},
   "source": [
    "2.Choose the compound that is mostly to undergo an S<sub>N</sub>2 attack by a nucleophile in each of the following comparisons:\n",
    "    \n",
    "    a.\tmethyl chloride vs. tert-butyl chloride\n",
    "\tb.\t2-chlorobutane vs. 1-chlorobutane\n",
    "\tc.\tNeopentyl chloride vs. 1-chloropentane"
   ]
  },
  {
   "cell_type": "markdown",
   "metadata": {},
   "source": [
    "## Procedure"
   ]
  },
  {
   "cell_type": "markdown",
   "metadata": {},
   "source": [
    "For this experiment you will be working in groups of 2 students. The objective of this lab is to study the structural effects of alkyl halides on S<sub>N</sub>1 and S<sub>N</sub>2 reactions. A series of alkyl halides will be observed under two sets of conditions, one which favors the S<sub>N</sub>1 mechanism and the other the S<sub>N</sub>2 mechanism. \n",
    "\n",
    "The S<sub>N</sub>2 reaction is observed by the displacement of bromide or chloride by an iodide ion in acetone solution. The iodide ion is a good nucleophile for the S<sub>N</sub>2 reaction, whereas acetone is a relatively poor ionizing solvent, and S<sub>N</sub>1 dissociation is minimized. Sodium iodide is very soluble in acetone, but sodium chloride and sodium bromide have very low solubilities, so the course of the reactions can be followed by the formation of crystalline NaCl or NaBr.\n",
    "\n",
    "The S<sub>N</sub>1 reaction can be observed by treating the alkyl halide with a solution of silver nitrate in aqueous ethanol. Nitrate ion is a very poor nucleophile so there is little opportunity for S<sub>N</sub>2 displacement. Dissociation of the alkyl halide by the S<sub>N</sub>1 process is followed by the precipitation of the insoluble silver halide; the carbocation is then captured by alcohol or water.\n",
    "\n",
    "**Structural Effects on S<sub>N</sub>1 and S<sub>N</sub>2 reactivity**\n",
    "\n",
    "**Safety note:** Alkyl halides are toxic and flammable; avoid breathing them or spilling them on the skin. Make sure that there is proper ventilation.\n",
    "\n",
    "Label 2 sets of five clean, thoroughly dry test tubes with numerals 1 to 5 (these can be dried effectively in the oven). In each series place 0.2 ml of the following halides: \n",
    "   \n",
    "   1. <i>n</i>-butyl chloride\n",
    "   2.\t<i>n</i>-butyl bromide\n",
    "   3.\t<i>sec</i>-butyl chloride\n",
    "   4.\t<i>tert</i>-butyl chloride\n",
    "   5.\tcrotyl chloride\n",
    "\n",
    "Keep the tubes stoppered with corks, rubber stoppers, or parafilm and leave them covered at all times, before and after adding reagents. Obtain 10 mL of 15% NaI-acetone solution and 10 mL of 1% ethanolic AgNO<sub>3</sub> solution.\n",
    "\n",
    "Arrange one set of tubes in order from 1 to 5. Add 2 mL of the NaI solution to tube #1 and note the time. (Add the solution from a pipet as rapidly as possible – not dropwise). After 2 to 3 minutes add 2 mL of NaI solution to tube #2 and note the time as before. Continue the addition at 2 to 3 minute intervals for the remaining tubes. After each addition watch for any rapid reaction and inspect each tube for signs of a precipitate. Note the time closely as possible when these reactions are seen.  Cover the tubes and allow them to stand, observing them periodically while the next series is run. \n",
    "\n",
    "Arrange the second set of tubes, and in the same way and 2 mL portions of AgNO<sub>3</sub> solution to each tube at 2-minute intervals. Again, watch closely for any change after the addition and monitor the other tubes for a precipitate. Note the time of the changes. \n",
    "\n",
    "If any tubes of the NaI series are still clear at this point, loosen the stoppers slightly and place the tubes in a water bath at 50°C; note any changes that occur. When you have completed these reactions, pour the contents in the organic waste container.\n"
   ]
  },
  {
   "cell_type": "markdown",
   "metadata": {
    "collapsed": true
   },
   "source": [
    "## Data and Observations"
   ]
  },
  {
   "cell_type": "markdown",
   "metadata": {},
   "source": [
    "Compile all observations and reaction times in the following table:\n",
    "\n",
    "|Test Tube #|Alkyl Halide|NaI Reaction at Room Temperature|NaI Reaction at Elevated Temperature|AgNO<sub>3</sub> Reaction at Room Temperature|\n",
    "|:-:      |:-:          |:-:         |:-:       |:-:     |\n",
    "|1|\t<i>n</i>-butyl chloride|\t|   |   |\t\t\n",
    "|2|\t<i>n</i>-butyl bromide|\t|   |   |\t\n",
    "|3|\t<i>sec</i>-butyl chloride|\t |   |   |\t\t\n",
    "|4|\t<i>tert</i>-butyl chloride|  |  |   |\t\t\t\n",
    "|5|\tcrotyl chloride|\t|   |     |\t\n",
    "\t\t\n"
   ]
  },
  {
   "cell_type": "markdown",
   "metadata": {},
   "source": [
    "## Structures"
   ]
  },
  {
   "cell_type": "code",
   "execution_count": 2,
   "metadata": {
    "collapsed": false
   },
   "outputs": [
    {
     "data": {
      "image/png": "pathway name\file name.jpg",
      "text/plain": [
       "<IPython.core.display.Image object>"
      ]
     },
     "execution_count": 2,
     "metadata": {},
     "output_type": "execute_result"
    }
   ],
   "source": [
    "#Draw the structures for the five alkyl halides used in this experiment using ChemDraw.\n",
    "\n",
    "from IPython.display import Image\n",
    "Image(\"pathway name\\file name.jpg\")"
   ]
  },
  {
   "cell_type": "markdown",
   "metadata": {},
   "source": [
    "## Report Questions"
   ]
  },
  {
   "cell_type": "markdown",
   "metadata": {},
   "source": [
    "1.\tList <i>n</i>-butyl chloride, <i>sec</i>-butyl chloride, and <i>tert</i>-butyl chloride in order of increasing relative reactivity with NaI in acetone.  Explain the reason one might expect these results. \n",
    "\n",
    "2.\tList <i>n</i>-butyl chloride, <i>sec</i>-butyl chloride, and <i>tert</i>-butyl chloride in order of increasing relative reactivity with ethanolic AgNO<sub>3</sub>.  Explain the reason one might expect these results.\n",
    "\n",
    "3.\tWhy should <i>n</i>-butyl bromide react faster than <i>n</i>-butyl chloride in this experiment?\n",
    "\n",
    "4.\tWhen crotyl chloride is treated with sodium iodide in acetone, it reacts much faster than <i>n</i>-butyl chloride, even though both are primary alkyl halides. Explain this rate difference.\n",
    "\n",
    "5.\tWhich would be more reactive when treated with silver nitrate in ethanol, benzyl chloride or bromobenzene? Explain.\n",
    "\n",
    "6.\tList the most significant differences between the S<sub>N</sub>1 and S<sub>N</sub>2 mechanisms.\n"
   ]
  },
  {
   "cell_type": "code",
   "execution_count": null,
   "metadata": {
    "collapsed": true
   },
   "outputs": [],
   "source": []
  }
 ],
 "metadata": {
  "kernelspec": {
   "display_name": "Python 3",
   "language": "python",
   "name": "python3"
  },
  "language_info": {
   "codemirror_mode": {
    "name": "ipython",
    "version": 3
   },
   "file_extension": ".py",
   "mimetype": "text/x-python",
   "name": "python",
   "nbconvert_exporter": "python",
   "pygments_lexer": "ipython3",
   "version": "3.5.1"
  }
 },
 "nbformat": 4,
 "nbformat_minor": 0
}
