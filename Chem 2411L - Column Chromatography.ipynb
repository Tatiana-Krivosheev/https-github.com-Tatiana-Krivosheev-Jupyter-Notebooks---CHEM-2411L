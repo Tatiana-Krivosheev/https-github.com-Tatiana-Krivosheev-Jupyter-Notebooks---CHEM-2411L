{
 "cells": [
  {
   "cell_type": "markdown",
   "metadata": {},
   "source": [
    "# Chem 2411L - Organic Chemistry Laboratory I\n",
    "# Column Chromatography "
   ]
  },
  {
   "cell_type": "markdown",
   "metadata": {},
   "source": [
    "## Student Name: \n",
    " "
   ]
  },
  {
   "cell_type": "markdown",
   "metadata": {},
   "source": [
    "## Pre-lab Questions"
   ]
  },
  {
   "cell_type": "markdown",
   "metadata": {},
   "source": [
    "1.\tWhat is the molecular formula of caffeine?\n",
    "\n",
    "2.\tList two substances that are commonly used as the stationary phase (adsorbent) for column chromatography.\n",
    "\n",
    "3.\tWhich would elute more quickly from a silica gel column, a ketone or an alcohol? \n",
    "\n",
    "4.\tWhich is more polar, diethyl ether or petroleum ether?\n"
   ]
  },
  {
   "cell_type": "markdown",
   "metadata": {},
   "source": [
    "## Procedure"
   ]
  },
  {
   "cell_type": "markdown",
   "metadata": {},
   "source": [
    "For this experiment you will be working in groups of 3-4 students. The objective of this lab is to extract caffeine from tea, then purify the caffeine using column chromatography.\n",
    "\n",
    "**Isolation of Caffeine**\n",
    "\n",
    "Place two tea bags in a 125-mL Erlenmeyer flask with 45 to 50 mL of distilled water and bring the mixture to a gentle boil. After 2 minutes, remove the heat and allow the solution to cool. Squeeze out the tea bags and discard them. Dilute the tea with 20 mL of 5% aqueous HCl to help prevent emulsion formation. In a separatory funnel, extract the tea with four 10-mL portions of methylene chloride. Do not shake the separatory funnel; just swirl it with moderate vigor so an emulsion might be avoided. Dry the combined methylene chloride extracts over Na<sub>2</sub>SO<sub>4</sub>. Remove the Na<sub>2</sub>SO<sub>4</sub> and add 0.2 g of silica gel to the methylene chloride solution. Evaporate the solvent on a steam bath or rotary evaporator to give a dry powder.\n",
    "\n",
    "**Preparing the column:**\n",
    "\n",
    "1.\tPush a small wad of glass wool into the bottom of the column. It may be helpful to use a straightened wire coat hanger to assist with this.\n",
    "\n",
    "2.\tGently pour a layer of sand (about 0.5cm thick) over the glass wool and tap the column to settle the sand. The sand retains fine particles and also provides a flat horizontal base for the adsorbent column.\n",
    "\n",
    "3.\tAdd 0.7 g of dry silica in a fine stream and gently tap the column to dislodge air bubbles and to level the top of the silica gel.\n",
    "\n",
    "4.\tAdd your sample (prepared above) to the top of the silica gel in your column, and tap to settle this new layer.\n",
    "\n",
    "**Eluting the column:**\n",
    "\n",
    "1.\tBe sure to have your solvents and collecting test tubes ready before applying the solvent to column. Once you start the column, do not stop!\n",
    "\n",
    "2.\tAdd the first solvent (5 mL of methylene chloride) to the column gently, so as not to disturb the sample on top of the column. Keep adding solvent to the top of the column so it does not go dry. You will add, in this order, two additional 5-mL portions of methylene chloride, then two 5-mL portions of 5% ethyl acetate in methylene chloride, and then three 5-mL portions of pure ethyl acetate.\n",
    "\n",
    "3.\tWhen the solvent starts to drip out of the bottom of the column, begin collecting fractions in test tubes (collect approximately 5 mL in each test tube); number these fractions and keep them in order.\n",
    "\n",
    "4.\tCheck each fraction by TLC with comparison to an authentic sample of caffeine. Note that more than one fraction can be spotted on a plate. Use 1-butanol/ethyl acetate/methyl isobutyl ketone (2:9:9) as the TLC solvent. Spot each fraction several times in one place on the origin of the TLC plate to make sure that enough sample is applied. If the column has worked properly, early yellow fractions that smell like tea will be followed by fractions that contain caffeine.\n",
    "\n",
    "5.\tCombine all fractions that contain caffeine in a tared flask or beaker, evaporate the solvent, and weigh the solid white residue. \n",
    "\n",
    "6.\tDetermine the melting point of your recovered caffeine.\n",
    "\n",
    "7.\tCompare the appearance of your recovered sample to that of an authentic sample of caffeine.\n",
    "\n"
   ]
  },
  {
   "cell_type": "markdown",
   "metadata": {},
   "source": [
    "## Data and Observations"
   ]
  },
  {
   "cell_type": "markdown",
   "metadata": {},
   "source": [
    "Mass of recovered caffeine:\n",
    "    \n",
    "Melting-point range of recovered caffeine:\t\n",
    "\n",
    "Observations (color changes, product appearance, etc.):\n",
    "\n",
    "\n",
    "Insert a picture of your developed TLC plate(s). Label the origin and solvent front. Label R<sub>f</sub> values for each spot. Clearly identify which substance/fraction was placed in each lane."
   ]
  },
  {
   "cell_type": "code",
   "execution_count": 5,
   "metadata": {
    "collapsed": false
   },
   "outputs": [
    {
     "data": {
      "image/png": "pathway name\file name.jpg",
      "text/plain": [
       "<IPython.core.display.Image object>"
      ]
     },
     "execution_count": 5,
     "metadata": {},
     "output_type": "execute_result"
    }
   ],
   "source": [
    "#Insert TCL plate(s)\n",
    "from IPython.display import Image\n",
    "Image(\"pathway name\\file name.jpg\")"
   ]
  },
  {
   "cell_type": "markdown",
   "metadata": {},
   "source": [
    "## Structures"
   ]
  },
  {
   "cell_type": "code",
   "execution_count": 6,
   "metadata": {
    "collapsed": false
   },
   "outputs": [
    {
     "data": {
      "image/png": "pathway name\file name.jpg",
      "text/plain": [
       "<IPython.core.display.Image object>"
      ]
     },
     "execution_count": 6,
     "metadata": {},
     "output_type": "execute_result"
    }
   ],
   "source": [
    "#Draw the structure of caffeine in ChemDraw and insert it here\n",
    "\n",
    "from IPython.display import Image\n",
    "Image(\"pathway name\\file name.jpg\")"
   ]
  },
  {
   "cell_type": "markdown",
   "metadata": {},
   "source": [
    "## Data Analysis"
   ]
  },
  {
   "cell_type": "markdown",
   "metadata": {},
   "source": [
    "1.\tCompare your isolated caffeine to a sample of pure caffeine. What are the physical similarities? Differences?\n",
    "\n",
    "2.\tWhat is the literature melting point of caffeine? How did your melting point compare to the literature melting point? What conclusions can you make about the purity of your isolated product based on your melting point data?\n"
   ]
  },
  {
   "cell_type": "markdown",
   "metadata": {},
   "source": [
    "## Report Questions"
   ]
  },
  {
   "cell_type": "markdown",
   "metadata": {},
   "source": [
    "1.\tSuppose that your mixture showed a good TLC separation with methylene chloride, but you inadvertently eluted the column with methanol.  What would happen?\n",
    "\n",
    "2.\tWhat would be the effect on the results of a column chromatography if solvent was not maintained above the adsorbent, and a crack developed in the column?\n",
    "\n",
    "3.  What would be the effect on the results of a column chromatorgaphry if you do not number the test tubes in which you are collecting fractions?\n"
   ]
  },
  {
   "cell_type": "code",
   "execution_count": null,
   "metadata": {
    "collapsed": true
   },
   "outputs": [],
   "source": []
  }
 ],
 "metadata": {
  "kernelspec": {
   "display_name": "Python 3",
   "language": "python",
   "name": "python3"
  },
  "language_info": {
   "codemirror_mode": {
    "name": "ipython",
    "version": 3
   },
   "file_extension": ".py",
   "mimetype": "text/x-python",
   "name": "python",
   "nbconvert_exporter": "python",
   "pygments_lexer": "ipython3",
   "version": "3.5.1"
  }
 },
 "nbformat": 4,
 "nbformat_minor": 0
}
