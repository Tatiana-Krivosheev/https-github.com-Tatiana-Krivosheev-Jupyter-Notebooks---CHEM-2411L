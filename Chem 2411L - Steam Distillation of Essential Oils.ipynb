{
 "cells": [
  {
   "cell_type": "markdown",
   "metadata": {},
   "source": [
    "# Chem 2411L - Organic Chemistry Laboratory I\n",
    "# Steam Distillation of Essential Oils "
   ]
  },
  {
   "cell_type": "markdown",
   "metadata": {},
   "source": [
    "## Student Name: "
   ]
  },
  {
   "cell_type": "markdown",
   "metadata": {},
   "source": [
    "## Pre-lab Questions"
   ]
  },
  {
   "cell_type": "markdown",
   "metadata": {},
   "source": [
    "1.\tTrue or false: A “steam distillation” is a distillation in which the source of heat is steam from a boiling water bath.\n",
    "\n",
    "2.\tWhat effect will heating an organic compound in the presence of steam have on boiling point?\n",
    "\n",
    "3.\tDefine the term “essential oil”.\n"
   ]
  },
  {
   "cell_type": "markdown",
   "metadata": {},
   "source": [
    "## Procedure"
   ]
  },
  {
   "cell_type": "markdown",
   "metadata": {},
   "source": [
    "For this experiment you will be working in groups of 2 students. The objective of this lab is to isolate the essential oil from cloves, then characterize the oil using GCMS. Oil of cloves is rich in 4-allyl-2-methoxyphenol (eugenol). Small amounts of other components, such as eugenol acetate and caryophyllene, may also be present.\n",
    "\n",
    "**Week 1: Isolation of the Essential Oil of Cloves**\n",
    "\n",
    "**Safety note:** Since steam is being generated, care should be taken to avoid spills and burns. Exposure to methylene chloride fumes should also be minimized.\n",
    "\n",
    "Place 10 g of freshly ground cloves in a 250-mL or 500-mL round-bottom flask from your lab kit (use whichever flask fits in the heating mantle). Add 100 mL of water and a boiling stone to the flask and mark the water level with a grease pencil. Assemble the setup shown in Figure 3-22 of Padias. Use vacuum grease and blue Keck clamps at all joints. If you have a one-neck 500-mL flask instead of a 3-neck flask, attach the separatory funnel to the Claisen connecting tube. Fill the separatory funnel with water.\n",
    "\n",
    "Heat the mixture (with the heating mantle) until a steady distillation begins. Occasionally add water from the separatory funnel to maintain the original water level in the round bottom flask. Collect the distillate until no further droplets of oil can be seen; a minimum of 50 mL should be distilled and collected. \n",
    "\n",
    "When the distillation is complete, pour the distillate into a clean separatory funnel, rinse the receiving flask with 10 mL of methylene chloride, and add this to the funnel. Rock the funnel gently, allow the layers to separate completely, and drain the lower organic layer into a small Erlenmeyer flask. Extract the aqueous layer again using 5 mL of methylene chloride, and drain the lower layer carefully into the same Erlenmeyer flask. Dry the methylene chloride over sodium sulfate, then transfer the solution into a tared (pre-weighed) beaker. Evaporate the methylene chloride on a steam bath in the hood until the solution has been concentrated to an oily residue. Weigh the oil and calculate the percent recovery of oil.\n",
    "\n",
    "Determine the IR spectrum of your oil.\n",
    "\n",
    "**Week 2: GCMS**\n",
    "\n",
    "This week you will meet in the classroom. More information about the GCMS procedure will be provided at that time.\n"
   ]
  },
  {
   "cell_type": "markdown",
   "metadata": {},
   "source": [
    "## Data and Observations"
   ]
  },
  {
   "cell_type": "markdown",
   "metadata": {},
   "source": [
    "**Isolation of the Essential Oil of Clove**\n",
    "\n",
    "Mass of cloves: \n",
    "\n",
    "Mass of recovered oil: \n",
    "\n",
    "Observations (color changes, product appearance, etc.):\n"
   ]
  },
  {
   "cell_type": "markdown",
   "metadata": {},
   "source": [
    "## Structure"
   ]
  },
  {
   "cell_type": "code",
   "execution_count": 3,
   "metadata": {
    "collapsed": false
   },
   "outputs": [
    {
     "data": {
      "image/png": "pathway name\file name.jpg",
      "text/plain": [
       "<IPython.core.display.Image object>"
      ]
     },
     "execution_count": 3,
     "metadata": {},
     "output_type": "execute_result"
    }
   ],
   "source": [
    "#Draw the structure of eugenol in ChemDraw.\n",
    "\n",
    "from IPython.display import Image\n",
    "Image(\"pathway name\\file name.jpg\")"
   ]
  },
  {
   "cell_type": "markdown",
   "metadata": {},
   "source": [
    "## Data Analysis"
   ]
  },
  {
   "cell_type": "markdown",
   "metadata": {},
   "source": [
    "1. Calculate the percent recovery of clove oil from cloves. Clearly show your work."
   ]
  },
  {
   "cell_type": "markdown",
   "metadata": {},
   "source": [
    "## Report Questions"
   ]
  },
  {
   "cell_type": "markdown",
   "metadata": {},
   "source": [
    "1.Why does the newly condensed steam distillate appear cloudy?"
   ]
  },
  {
   "cell_type": "markdown",
   "metadata": {
    "collapsed": true
   },
   "source": [
    "2.Compare your IR of clove oil to a literature spectrum of eugenol. What conclusions can you draw about your clove oil based on this comparison? Insert your IR spectrum and the literature spectrum."
   ]
  },
  {
   "cell_type": "markdown",
   "metadata": {},
   "source": [
    "3.Based on your GCMS data, how many components are in the clove oil? Calculate the percentage of each component. Which of the components corresponds to eugenol? Is eugenol the major component? Insert your GCMS data."
   ]
  },
  {
   "cell_type": "code",
   "execution_count": null,
   "metadata": {
    "collapsed": true
   },
   "outputs": [],
   "source": []
  }
 ],
 "metadata": {
  "kernelspec": {
   "display_name": "Python 3",
   "language": "python",
   "name": "python3"
  },
  "language_info": {
   "codemirror_mode": {
    "name": "ipython",
    "version": 3
   },
   "file_extension": ".py",
   "mimetype": "text/x-python",
   "name": "python",
   "nbconvert_exporter": "python",
   "pygments_lexer": "ipython3",
   "version": "3.5.1"
  }
 },
 "nbformat": 4,
 "nbformat_minor": 0
}
