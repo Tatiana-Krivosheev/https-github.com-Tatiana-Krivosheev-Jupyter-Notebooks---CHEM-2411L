{
 "cells": [
  {
   "cell_type": "markdown",
   "metadata": {},
   "source": [
    "# Chem 2411L - Organic Chemistry Laboratory I\n",
    "# Dehydration of Alcohols"
   ]
  },
  {
   "cell_type": "markdown",
   "metadata": {},
   "source": [
    "## Student Name: "
   ]
  },
  {
   "cell_type": "markdown",
   "metadata": {},
   "source": [
    "## Pre-lab Questions"
   ]
  },
  {
   "cell_type": "markdown",
   "metadata": {},
   "source": [
    "1.The catalyst in this experiment is:\n",
    "\n",
    "   <b>A.</b>  Br<sub>2</sub>\n",
    "  \n",
    "   <b>B.</b>\tH<sub>3</sub>PO<sub>4</sub>\n",
    "    \n",
    "   <b>C.</b>\tH<sub>2</sub>O\n",
    "    \n",
    "   <b>D.</b>\t2-methylcyclohexanol\n",
    "    \n",
    "   <b>E.</b>\tNa<sub>2</sub>SO<sub>4</sub>"
   ]
  },
  {
   "cell_type": "markdown",
   "metadata": {},
   "source": [
    "2.Draw the structure of the major alkene product that would form if <i>tert</i>-butyl alcohol was dehydrated."
   ]
  },
  {
   "cell_type": "code",
   "execution_count": 1,
   "metadata": {
    "collapsed": false
   },
   "outputs": [
    {
     "data": {
      "image/png": "pathway name\file name.jpg",
      "text/plain": [
       "<IPython.core.display.Image object>"
      ]
     },
     "execution_count": 1,
     "metadata": {},
     "output_type": "execute_result"
    }
   ],
   "source": [
    "from IPython.display import Image\n",
    "Image(\"pathway name\\file name.jpg\")"
   ]
  },
  {
   "cell_type": "markdown",
   "metadata": {},
   "source": [
    "## Procedure"
   ]
  },
  {
   "cell_type": "markdown",
   "metadata": {},
   "source": [
    "For this experiment you will be working in groups of 2 students. The objective of this lab is to perform the acid-catalyzed dehydration of 2-methylcyclohexanol. This reaction is an elimination reaction where a water molecule is eliminated from the alcohol, yielding an alkene product. This particular reaction can proceed in two directions, producing either 1-methylcyclohexene or 3-methylcyclohexene. You will confirm the presence of an alkene using the bromine unsaturation test and determine the product composition using gas chromatography (GC).\n",
    "\n",
    "**Safety Note:** \n",
    "\n",
    "The dehydration products formed in these reactions are highly flammable. If a burner is used in the distillation take care that vapors of the product are not exposed to the flame. Handle phosphoric acid with care. Should phosphoric acid be spilled on your skin, wash it off with copious amounts of water.\n",
    "\n",
    "**Dehydration of 2-Methylcyclohexanol**\n",
    "\n",
    "To a 25-mL round-bottom flask, add 6 mL of 2-methylcyclohexanol, 5 mL of 85% phosphoric acid, and a boiling stone. Attach to a fractional distillation assembly as shown in the Padias textbook. You do not need to use any column packing. Collect the distillate in a small flask or test tube in place of the 4-place receiver.\n",
    "\n",
    "Slowly heat the contents of the flask to boiling and distill out the product. The distillation temperature should be kept below 96°C by regulating the rate of heating. Continue the distillation until 4 to 6 mL of liquid have been collected. Transfer the distillate into a test tube and separate the product from the water layer by using a pipet. Transfer the product to a clean, dry test tube and dry it over Na<sub>2</sub>SO<sub>4</sub> for 10 minutes.\n",
    "\n",
    "**Bromine Unsaturation Test**\n",
    "\n",
    "Bromine readily adds across the carbon-carbon double bond of an alkene to produce a dibromoalkane. A red solution of bromine in methylene chloride will quickly become colorless as the addition reaction with the alkene takes place. \n",
    "\n",
    "Place 4-5 drops of cyclohexane in a small test tube. In a second test tube, place 4-5 drops of cyclohexene. In a third test tube, place 4-5 drops of your product mixture. Do not confuse the test tubes. Under the hood, add 5 drops of Br<sub>2</sub> in CH<sub>2</sub>Cl<sub>2</sub> one drop at a time, with shaking. Note what happens to the red bromine solution as it is added to each tube. The cyclohexane and cyclohexane are used to show you the results of a negative (cyclohexane) and positive (cyclohexene) bromine test. Record your observations.\n",
    "\n",
    "**Gas Chromatography**\n",
    "\n",
    "The procedure to determine the GC of your product mixture will be provided by your instructor.\n"
   ]
  },
  {
   "cell_type": "markdown",
   "metadata": {},
   "source": [
    "## Data and Observations"
   ]
  },
  {
   "cell_type": "markdown",
   "metadata": {},
   "source": [
    "**Dehydration of 2-Methylcyclohexanol**\n",
    "\n",
    "Observations (color changes, product appearance, etc.):\n",
    "    \n",
    "\n",
    "    \n",
    "\n",
    "**Bromine Test for Unsaturation**\n",
    "\n",
    "Observations (color changes, product appearance, etc.):\n",
    "\n"
   ]
  },
  {
   "cell_type": "markdown",
   "metadata": {},
   "source": [
    "## Structures"
   ]
  },
  {
   "cell_type": "code",
   "execution_count": 6,
   "metadata": {
    "collapsed": false
   },
   "outputs": [
    {
     "data": {
      "image/png": "pathway name\file name.jpg",
      "text/plain": [
       "<IPython.core.display.Image object>"
      ]
     },
     "execution_count": 6,
     "metadata": {},
     "output_type": "execute_result"
    }
   ],
   "source": [
    "# Draw the reaction used in this experiment. Clearly indicate the major and minor products. You do not need to show a mechanism here.\n",
    "\n",
    "from IPython.display import Image\n",
    "Image(\"pathway name\\file name.jpg\")"
   ]
  },
  {
   "cell_type": "markdown",
   "metadata": {},
   "source": [
    "## Data Analysis"
   ]
  },
  {
   "cell_type": "markdown",
   "metadata": {},
   "source": [
    "1.Insert a copy of your GC data here. Indicate the molecules that give rise to each peak on the chromatogram.\n",
    "\n"
   ]
  },
  {
   "cell_type": "markdown",
   "metadata": {},
   "source": [
    "2.Use the GC data to calculate the percentage of each component in your product mixture. Clearly show your work."
   ]
  },
  {
   "cell_type": "markdown",
   "metadata": {},
   "source": [
    "3.Explain the results of your bromine unsaturation test. What did the test demonstrate?"
   ]
  },
  {
   "cell_type": "markdown",
   "metadata": {},
   "source": [
    "## Report Questions"
   ]
  },
  {
   "cell_type": "markdown",
   "metadata": {},
   "source": [
    "1.\tWhat was the purpose of adding the anhydrous sodium sulfate to the dehydration product in this experiment? \n",
    "\n",
    "2.\tWhat physcial property explains the order of elution (relative retention times) observed from the gas chromatography for this experiment.\n",
    "\n",
    "3.\tThe two products obtained in this experiment are 1-methylcyclohexene and 3-methylcyclohexene. Why was 2-methylcyclohexene not mentioned as a possible product?\n",
    "\n",
    "4.\tName the product formed when bromine in dichloromethane reacts with cyclohexene.\n",
    "\n",
    "5.\tWhat are the requirements for a mobile phase in gas chromatography?\n",
    "\n",
    "6.\tWhat volume of sample is appropriate in the running of an analytical gas chromatograph?\n",
    "\n",
    "7.\tList the similarities and differences between gas chromatography and column chromatography.\n"
   ]
  },
  {
   "cell_type": "code",
   "execution_count": null,
   "metadata": {
    "collapsed": true
   },
   "outputs": [],
   "source": []
  }
 ],
 "metadata": {
  "kernelspec": {
   "display_name": "Python 3",
   "language": "python",
   "name": "python3"
  },
  "language_info": {
   "codemirror_mode": {
    "name": "ipython",
    "version": 3
   },
   "file_extension": ".py",
   "mimetype": "text/x-python",
   "name": "python",
   "nbconvert_exporter": "python",
   "pygments_lexer": "ipython3",
   "version": "3.5.1"
  }
 },
 "nbformat": 4,
 "nbformat_minor": 0
}
