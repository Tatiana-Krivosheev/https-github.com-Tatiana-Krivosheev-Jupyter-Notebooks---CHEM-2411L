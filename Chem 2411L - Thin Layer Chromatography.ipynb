{
 "cells": [
  {
   "cell_type": "markdown",
   "metadata": {},
   "source": [
    "# Chem 2411L - Organic Chemistry Laboratory I\n",
    "# Thin Layer Chromatography "
   ]
  },
  {
   "cell_type": "markdown",
   "metadata": {},
   "source": [
    "## Student Name: \n"
   ]
  },
  {
   "cell_type": "markdown",
   "metadata": {},
   "source": [
    "## Pre-lab Questions"
   ]
  },
  {
   "cell_type": "markdown",
   "metadata": {
    "collapsed": true
   },
   "source": [
    "1. How is R<sub>f</sub> calculated?\n",
    "\n",
    "2. How can you use TLC to determine the number of components in a mixture? How would R<sub>f</sub> be calculated if there is more than one component?\n",
    "\n",
    "3. Could the R<sub>f</sub> value of a component be greater than 1.0? Explain.\n",
    "\n",
    "4. What would happen if the spots at the origin are not placed above the level of the solvent in the development chamber?\t\n"
   ]
  },
  {
   "cell_type": "markdown",
   "metadata": {},
   "source": [
    "## Procedure"
   ]
  },
  {
   "cell_type": "markdown",
   "metadata": {},
   "source": [
    "The objective of this lab is to identify and unknown drug by TLC comparison with several known compounds.\n",
    "\n",
    "**TLC of Analytic Drugs**\n",
    "\n",
    "Place approximately 10 mg of each of the four reference compounds (acetylsalicylic acid, acetaminophen, caffeine, and ibuprofen) in its own labeled test tube or vial and dissolve the compounds in a few drops of methanol. In a fifth tube, place a quarter of an unknown analgesic tablet and add 1 mL of methanol. Crush the tablet with a glass stir rod, stir well and allow the insoluble material to settle. \n",
    "\n",
    "TLC the samples as described in your textbook. The eluent (developing solvent) is a mixture of petroleum ether, methylene chloride, and ethyl acetate in a 1:1:2 ratio by volume. Mark the spot line (origin) and solvent front with a pencil. Examine the chromatogram under a UV lamp and observe the appearance of the plate, including the size, location and color of the spots. You may want to take a picutre or draw a sketch of your chromatogram. After observing the plate under UV light, place the plate in a jar of iodine vapor for a few minutes. Note any changes in the appearance of the plate. \n",
    "\n",
    "Identify the spots in the chromatogram, including as many of the spots in the unknown lane as possible. From the identity and number of the spots in the unknown and the composition of the possible unknown (see Table 1), deduce the identity of your unknown.\n",
    "\n",
    "TLC plates with glass backing should be disposed of in the broken glass containers. TLC plates with plastic backing can be disposed of in the trash.\n",
    "\n",
    "Table 1: Common Analgesic Drugs|\n",
    ":-:         |:-:\n",
    "**Drug (Brand name)**|**Igredients**\n",
    "Anacin|Aspirin, caffeine\n",
    "Motrin|Ibuprofen\n",
    "Tylenol|Acetaminophen\n",
    "Vanquish|Aspirin, acetaminophen, caffeine\n"
   ]
  },
  {
   "cell_type": "markdown",
   "metadata": {},
   "source": [
    "## Data and Observations"
   ]
  },
  {
   "cell_type": "markdown",
   "metadata": {},
   "source": [
    "**TLC of Analgesic Drugs**\n",
    "\n",
    "Unknown number:  \n",
    "   \n",
    "Development solvent:  \n",
    "\n",
    "Data Table:\n",
    "\n",
    "|Substance|Description of spot(s)|Distance(s) traveled|R<sub>f</sub> Value(s)\n",
    "|:-:      |:-:          |:-:          |:-:      |   \n",
    "|Solvent|\t    -----        |             |  -----       |\t\n",
    "|Acetylsalicylic acid (aspirin)|  |   |  |\t\t\t\n",
    "|Acetaminophen|  |  |  |\n",
    "|Caffeine|  |  |  |\t\t\n",
    "|Ibuprofen|  |  |  |\t\t\t\n",
    "|Unknown|  |  |  |  |\t\t\n",
    "\t\t\t\n",
    "Insert a picture of your developed TLC plate. (Either insert a picture of your actual plate or use the Chromatography Tools in ChemDraw to draw a representation of your plate). Make sure the origin and solvent front are clearly indicated. Clearly identify which substance was placed in each lane.\t\t\t\n"
   ]
  },
  {
   "cell_type": "code",
   "execution_count": 5,
   "metadata": {
    "collapsed": false
   },
   "outputs": [
    {
     "data": {
      "image/png": "pathway name\file name.jpg",
      "text/plain": [
       "<IPython.core.display.Image object>"
      ]
     },
     "execution_count": 5,
     "metadata": {},
     "output_type": "execute_result"
    }
   ],
   "source": [
    "from IPython.display import Image\n",
    "Image(\"pathway name\\file name.jpg\")"
   ]
  },
  {
   "cell_type": "markdown",
   "metadata": {},
   "source": [
    "## Structures"
   ]
  },
  {
   "cell_type": "code",
   "execution_count": 6,
   "metadata": {
    "collapsed": false
   },
   "outputs": [
    {
     "data": {
      "image/png": "pathway name\file name.jpg",
      "text/plain": [
       "<IPython.core.display.Image object>"
      ]
     },
     "execution_count": 6,
     "metadata": {},
     "output_type": "execute_result"
    }
   ],
   "source": [
    "#Draw the structures for the four reference compounds using ChemDraw.\n",
    "\n",
    "from IPython.display import Image\n",
    "Image(\"pathway name\\file name.jpg\")"
   ]
  },
  {
   "cell_type": "markdown",
   "metadata": {},
   "source": [
    "## Data Analysis"
   ]
  },
  {
   "cell_type": "markdown",
   "metadata": {},
   "source": [
    "1. Which reference compound(s) is(are) in your unknown? \n",
    "\n",
    "2. Which analgesic drug corresponds to your unknown? Explain."
   ]
  },
  {
   "cell_type": "markdown",
   "metadata": {},
   "source": [
    "## Report Questions"
   ]
  },
  {
   "cell_type": "markdown",
   "metadata": {},
   "source": [
    "1.What will be the result of the following errors in TLC technique?\n",
    " \n",
    "    a. Too much sample applied\n",
    "    b. Not enough sample is applied\n",
    "    c. Solvent is too polar\n",
    "    d. Forgetting to remove the TLC plate when the solvent has reached the top of the plate\n",
    "\n",
    "\n",
    "2.Why is pencil used instead of pen to mark the origin of the TLC plate?\n",
    "\n",
    "\n",
    "3.Use the Chromatography Tools (button on the Main Toolbar) in ChemDraw to create a TLC plate with two lanes. Make the R<sub>f</sub> value for the substance in the first lane 0.80. Make the R<sub>f</sub> value for the substance in the second lane 0.15. Label the origin and the solvent front. Insert the picture below.\n"
   ]
  },
  {
   "cell_type": "code",
   "execution_count": 5,
   "metadata": {
    "collapsed": false
   },
   "outputs": [
    {
     "data": {
      "image/png": "pathway name\file name.jpg",
      "text/plain": [
       "<IPython.core.display.Image object>"
      ]
     },
     "execution_count": 5,
     "metadata": {},
     "output_type": "execute_result"
    }
   ],
   "source": [
    "from IPython.display import Image\n",
    "Image(\"pathway name\\file name.jpg\")"
   ]
  }
 ],
 "metadata": {
  "kernelspec": {
   "display_name": "Python 3",
   "language": "python",
   "name": "python3"
  },
  "language_info": {
   "codemirror_mode": {
    "name": "ipython",
    "version": 3
   },
   "file_extension": ".py",
   "mimetype": "text/x-python",
   "name": "python",
   "nbconvert_exporter": "python",
   "pygments_lexer": "ipython3",
   "version": "3.5.1"
  }
 },
 "nbformat": 4,
 "nbformat_minor": 0
}
