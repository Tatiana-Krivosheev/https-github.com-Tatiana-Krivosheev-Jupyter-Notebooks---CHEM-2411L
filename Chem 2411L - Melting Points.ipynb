{
 "cells": [
  {
   "cell_type": "markdown",
   "metadata": {},
   "source": [
    "# Chem 2411L - Organic Chemistry Laboratory I\n",
    "# Melting Points"
   ]
  },
  {
   "cell_type": "markdown",
   "metadata": {},
   "source": [
    "## Student Name: "
   ]
  },
  {
   "cell_type": "markdown",
   "metadata": {},
   "source": [
    "## Pre-lab Questions"
   ]
  },
  {
   "cell_type": "markdown",
   "metadata": {},
   "source": [
    "1)\tWhat are the two temperatures noted in a melting point range? \n",
    "\n",
    "\n",
    "2)\tWhat does a broad melting point indicate about the purity of a sample?\n",
    "\n",
    "\n",
    "3)\tHow much sample should be loaded into the melting-point tube?\n",
    "\n",
    "\n",
    "4)\tHow can a “mixed melting point” confirm the identity of an unknown compound?\n"
   ]
  },
  {
   "cell_type": "markdown",
   "metadata": {},
   "source": [
    "## Procedures"
   ]
  },
  {
   "cell_type": "markdown",
   "metadata": {},
   "source": [
    "For this experiment you will be working in groups of 2 students (1 group per Mel-Temp). Make sure each student in the group has a chance to determine a melting point. Record all data in your laboratory notebook. Dispose of used melting point tubes in the broken glass containers. \n",
    "\n",
    "**Melting Point of a Pure Known Compound**\n",
    "\n",
    "1.\tLoad a melting point tube with one of the known compounds from Table 1.\n",
    "\n",
    "2.\tDetermine the melting point range as described in your textbook. \n",
    "\n",
    "3.\tRepeat the procedure with a fresh sample and tube. Duplicate results should agree within 1 to 2$^\\circ$C. If your results do not agree, repeat the procedure again.\n",
    "\n",
    "\n",
    "Table 1: Melting-Point Standards|\n",
    ":-:         |:-:\n",
    "**Compound**     |**Melting Points ($^\\circ$C)**\n",
    "*p*-Dichlorobenzene|53\n",
    "Acetanilide|114\n",
    "Benzamide|130\n",
    "Salicylic acid|159\n",
    "Succinic acid|188\n",
    "*p*-Nitrobenzoic acid|241\n",
    "\n",
    "**Melting Point of an Unknown Compound**\n",
    "\n",
    "1.\tObtain an unknown sample (numbered 1 – 14). This unknown compound will be one of the compounds listed in Table 2. \n",
    "2.\tDetermine the melting-point range of your unknown. Do two trials.\n",
    "3.\tUse Table 2 and your melting-point data to identify what you think your unknown compound may be.\n",
    "4.\tMixture a small amount of your unknown compound with a small amount of the compound you think your unknown may be. \n",
    "5.\tDetermine the melting-point range of this mixture. Use this melting-point data to confirm the identity of your unknown. If your results are not conclusive you may need to repeat this procedure with a new mixture.\n",
    "\n",
    "Table 2: Compounds for Melting-Point Unknowns|\n",
    ":-:         |:-:\n",
    "**Compound**     |**Melting Points ($^\\circ$C)**\n",
    "Biphenyl|70\n",
    "Phenylacetic acid|78\n",
    "Naphthalene|80\n",
    "Vanillin|81\n",
    "*o*-Anisic acid|100\n",
    "Phenanthrene|101\n",
    "*o*-Toluic acid|105\n",
    "Acetanilide|114\n",
    "Fluorene|114\n"
   ]
  },
  {
   "cell_type": "markdown",
   "metadata": {},
   "source": [
    "## Data "
   ]
  },
  {
   "cell_type": "markdown",
   "metadata": {},
   "source": [
    "**Melting Point of a Pure Known Compound**\n",
    "\n",
    "    Name of compound: ____________________\n",
    "\n",
    "    Literature melting point: ____________________\n",
    "    \n",
    "    Melting-Point Range Measurements:\n",
    "        Trial 1:  ____________________\n",
    "        Trial 2:  ____________________\n",
    "    \n",
    "\n",
    "**Melting Point of an Unknown Compound**\n",
    "\n",
    "    Unknown Number ____________________\t\t\n",
    "\n",
    "    Unknown Melting-Point Range:\n",
    "        Trial 1:   ____________________\n",
    "        Trial 2:   ____________________\n",
    "    \n",
    "    Mixture Components:  Your unknown + ____________________\n",
    "\n",
    "    Mixture Melting-Point Range:\n",
    "        Trial 1:  ____________________\n",
    "        Trial 2:  ____________________\n",
    " \n",
    "*(Repeat the last three data entries if you need to use more than one mixture to prove the identity of your unknown compound.)*\n",
    "\n"
   ]
  },
  {
   "cell_type": "markdown",
   "metadata": {},
   "source": [
    "## Data Analysis"
   ]
  },
  {
   "cell_type": "markdown",
   "metadata": {},
   "source": [
    "    Identity of Your Unknown Compound: ____________________"
   ]
  },
  {
   "cell_type": "markdown",
   "metadata": {},
   "source": [
    "## Report Questions"
   ]
  },
  {
   "cell_type": "markdown",
   "metadata": {},
   "source": [
    "1)\tWhat effect would each of the following have on the observed melting-point range of a sample?\n",
    "\n",
    "    a.\tFilling the capillary tube half full.\n",
    "    \n",
    "    b.\tHeating the sample too quickly.\n",
    "    \n",
    "    \n",
    "2)\tIf a compound is pure, how narrow should its melting point be expected to be?\n",
    "\n",
    "3)\tSuppose your sample melts and you were unable to read the temperature. Should you cool the capillary tube and start again or prepare a fresh sample? Explain.\n",
    "\n",
    "4)\tUnknown X melts at 85.0-86.0$^\\circ$C. Compound Y also melts at 85.0-86.0$^\\circ$C. What results would be observed for the melting point of a mixture of X and Y if:\n",
    "\n",
    "    a.\tX and Y are the same compound?\n",
    "\n",
    "    b.\tX and Y are not the same compound?\n",
    "\n",
    "5)\tHow did your results for the Melting Point of a Pure Known Compound compare to the literature melting point given in Table 1? Assuming the known compound was pure and you practiced good experimental technique, suggest a reason why your experimental results might not agree with the literature value.\n"
   ]
  }
 ],
 "metadata": {
  "kernelspec": {
   "display_name": "Python 3",
   "language": "python",
   "name": "python3"
  },
  "language_info": {
   "codemirror_mode": {
    "name": "ipython",
    "version": 3
   },
   "file_extension": ".py",
   "mimetype": "text/x-python",
   "name": "python",
   "nbconvert_exporter": "python",
   "pygments_lexer": "ipython3",
   "version": "3.5.1"
  }
 },
 "nbformat": 4,
 "nbformat_minor": 0
}
