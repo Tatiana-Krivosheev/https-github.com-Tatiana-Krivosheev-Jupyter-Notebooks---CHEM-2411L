{
 "cells": [
  {
   "cell_type": "markdown",
   "metadata": {},
   "source": [
    "# Chem 2411L - Organic Chemistry Laboratory I\n",
    "# Extraction"
   ]
  },
  {
   "cell_type": "markdown",
   "metadata": {},
   "source": [
    "## Student Name:  "
   ]
  },
  {
   "cell_type": "markdown",
   "metadata": {},
   "source": [
    "## Pre-lab Questions"
   ]
  },
  {
   "cell_type": "markdown",
   "metadata": {},
   "source": [
    "1)\tWhich of the following describes the most efficient procedure for extraction of organic compounds from an aqueous solution?\n",
    "    \n",
    "    A.\tOne 90-mL extraction with diethyl ether.\n",
    "    B.\tThree 30-mL extractions with diethyl ether.\n",
    "    C.\tOne 90-mL extraction with acetone.\n",
    "    D.\tThree 30-mL extractions with acetone.\n",
    "\n",
    "\n",
    "2)\tWhich solvent would be the upper layer in an extraction: water or diethyl ether?\n",
    "\n",
    "3)\tWhich solvent would be the upper layer in an extraction: water or methylene chloride?\n",
    "\n",
    "4)\tHow can you tell if you have added sufficient drying agent to an organic solution? \n"
   ]
  },
  {
   "cell_type": "markdown",
   "metadata": {},
   "source": [
    "## Procedure"
   ]
  },
  {
   "cell_type": "markdown",
   "metadata": {},
   "source": [
    "**Separation of Acidic and Neutral Compounds**\n",
    "\n",
    "In this procedure, you will use extraction to separate the components of an unknown mixture. The unknown mixture contains an acidic component and a neutral component. An ether solution of the mixture is extracted with aqueous NaHCO<sub>3</sub> to separate the acid component, which is then recovered by re-acidification. The neutral compound, which remains in the ether, is recovered by removal of the solvent.\n",
    "\n",
    "**Safety Note**\n",
    "\n",
    "Care should be taken to avoid ether spills on hands. If this occurs, wash your hands thoroughly with soap and water. Also, ether is highly flammable, and there should be no flames of any kind in the laboratory.\n",
    "\n",
    "**Procedure**\n",
    "\n",
    "Part 1: Isolation of acid component:\n",
    "\n",
    "Obtain 1.0 g of an unknown mixture. Dissolve the unknown in 50 mL of methyl t-butyl ether (MTBE) and place it in a separatory funnel. To isolate the acid component of the mixture, extract the MTBE solution with 15 mL of 5% aqueous NaHCO<sub>3</sub> solution. Separate the NaHCO<sub>3</sub> layer from the MTBE. Put the NaHCO<sub>3</sub> layer in an Erlenmeyer flask. Keep the MTBE layer in the separatory funnel. Repeat the extraction of the MTBE layer with another 15 mL portion of NaHCO<sub>3</sub>. Again, separate the NaHCO<sub>3</sub> layer and add it to the previous NaHCO<sub>3</sub> layer. Repeat the extraction a third time with a third 15 mL portion of NaHCO<sub>3</sub>. Separate the layers, and combine all three NaHCO<sub>3</sub> extracts in the Erlenmeyer flask. **Save the original MTBE solution from the separatory funnel in a second labeled Erlenmeyer flask. You will need this layer (which still contains your neutral compound) for Part 2 of the procedure.** \n",
    "\n",
    "Add the three combined NaHCO<sub>3</sub> extracts to the empty separatory funnel. Wash the combined NaHCO<sub>3</sub> extracts with 15 mL of fresh MTBE. Separate the layers. Place the aqueous solution (the combined NaHCO<sub>3</sub> extracts) containing your unknown acid in an Erlenmeyer flask and slowly add 10% HCl solution, swirling after each small portion is added. Collect any solid acid that precipitates by vacuum filtration, wash with cold water, and air dry.\n",
    "\n",
    "Part 2: Isolation of neutral component:\n",
    "\n",
    "To isolate the neutral unknown compound, wash the original MTBE solution with a 15-mL portion of water. Separate the layers and dispose of the water layer. Pour the remaining MTBE solution from the top of the separatory funnel into an Erlenmeyer flask and dry the ether solution over anhydrous sodium sulfate. Remove the drying agent (the easiest way to do this is to carefully decant the ether into a clean dry beaker). Evaporate the ether on a steam bath or rotary evaporator. The neutral compound will remain as a crystalline or oily residue. \n",
    "\n",
    "Part 3: Identification of components:\n",
    "\n",
    "For each crystalline compound obtained (acid and neutral) determine the mass and melting point of the dry solid and identify it from the list of unknowns from Table 1. If an oily compound is obtained, determine the mass.\n",
    "\n",
    "Table 1: Possible Unknowns|\n",
    ":-:         |:-:\n",
    "**Acids**|**mp ($^\\circ$C)**|**Neutral**|**mp ($^\\circ$C)**\n",
    "o-Toluic  acid|104|Benzophenone|48\n",
    "Benzoic acid|122|Biphenyl|69\n",
    "trans-Cinnamic acid|133|Vanillin|80\n",
    "m-Nitrobenzoic acid|140|Benzil|95\n",
    "m-Bromobenzoic acid|155|trans-Stilbene|122\n",
    "p-Toluic acid|180|Benzoin|137\n",
    "\n",
    "\n",
    "**Waste Disposal**\n",
    "\n",
    "All aqueous solutions may be neutralized and poured down the drain.\n",
    "MTBE should be poured into the non-halogenated waste container.\n"
   ]
  },
  {
   "cell_type": "markdown",
   "metadata": {},
   "source": [
    "## Data and Observations"
   ]
  },
  {
   "cell_type": "markdown",
   "metadata": {},
   "source": [
    "**Separation of Acidic and Neutral Compounds**\n",
    "\n",
    "    Unknown number: ____________________\n",
    "    Mass of unknown mixture: ____________________\n",
    "\n",
    "|Component  |Mass Recovered|Melting Point|Appearance|\n",
    "|:-:        |:-:          |:-:          |:-:       |                             \n",
    "|Acidic     |             |             |          |\n",
    "|Basic      |             |             |          |                                  "
   ]
  },
  {
   "cell_type": "markdown",
   "metadata": {},
   "source": [
    "## Data Analysis"
   ]
  },
  {
   "cell_type": "markdown",
   "metadata": {},
   "source": [
    "1)\tIdentify each component using Table 1 (from the procedure) and complete the table below.\n",
    "\n",
    "|Component  |Identity     |\n",
    "|:-:        |:-:          |                          \n",
    "|Acidic     |             |\n",
    "|Neutral    |             | \n",
    "\n",
    "2)\tCalculate the percent recovery of each component and the total percent recovery from your extractions. Clearly show your work."
   ]
  },
  {
   "cell_type": "markdown",
   "metadata": {},
   "source": [
    "## Structure"
   ]
  },
  {
   "cell_type": "code",
   "execution_count": null,
   "metadata": {
    "collapsed": false
   },
   "outputs": [],
   "source": [
    "# Draw the structure of each identified component using ChemDraw\n",
    "\n",
    "from IPython.display import Image\n",
    "Image(\"pathway name\\file name.jpg\")"
   ]
  },
  {
   "cell_type": "markdown",
   "metadata": {},
   "source": [
    "## Questions"
   ]
  },
  {
   "cell_type": "markdown",
   "metadata": {},
   "source": [
    "1) Explain why it is more efficient to make several extractions using small portions rather than one extraction using the same total volume.\n",
    "\n",
    "2) Briefly describe how you would separate a mixture containing benzoic acid and benzophenone.  Both compounds are soluble in ether.\n",
    "\t\n",
    "3) Assume that during an extraction you have lost track of which layer is the aqueous layer. How could you determine which layer is which by the use of a simple test?\n",
    "\n",
    "4) What are some sources of error in this experiment? Be specific; do not simply say “human error”.\n"
   ]
  },
  {
   "cell_type": "code",
   "execution_count": null,
   "metadata": {
    "collapsed": true
   },
   "outputs": [],
   "source": []
  }
 ],
 "metadata": {
  "kernelspec": {
   "display_name": "Python 3",
   "language": "python",
   "name": "python3"
  },
  "language_info": {
   "codemirror_mode": {
    "name": "ipython",
    "version": 3
   },
   "file_extension": ".py",
   "mimetype": "text/x-python",
   "name": "python",
   "nbconvert_exporter": "python",
   "pygments_lexer": "ipython3",
   "version": "3.5.1"
  }
 },
 "nbformat": 4,
 "nbformat_minor": 0
}
